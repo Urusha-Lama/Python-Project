{
 "cells": [
  {
   "cell_type": "code",
   "execution_count": 5,
   "id": "b3e67eca-5851-4c8f-9693-517b6a0d8622",
   "metadata": {},
   "outputs": [
    {
     "ename": "SyntaxError",
     "evalue": "invalid syntax (3513477793.py, line 13)",
     "output_type": "error",
     "traceback": [
      "\u001b[1;36m  Cell \u001b[1;32mIn[5], line 13\u001b[1;36m\u001b[0m\n\u001b[1;33m    key =  Fernet.generate_key:\u001b[0m\n\u001b[1;37m                              ^\u001b[0m\n\u001b[1;31mSyntaxError\u001b[0m\u001b[1;31m:\u001b[0m invalid syntax\n"
     ]
    }
   ],
   "source": [
    "from cryptography.fernet import Fernet\n",
    "\n",
    "print(\"Welocme \")\n",
    "master_pws = input(\"what is  your password? \")\n",
    "\n",
    "def writes_key():\n",
    "    key = Fernet.generate_key()\n",
    "    with open(\"key.key\",\"wb\") as key_file:\n",
    "        key_file.write(key)\n",
    "\n",
    "\n",
    "def write_key():\n",
    " key =  Fernet.generate_key:\n",
    " file = open(\"ker.key\",\"rb\")\n",
    " key = file.read()\n",
    " file,close()\n",
    " return\n",
    "\n",
    "def add():\n",
    " name = input(\"User name: \")\n",
    " psw=input(\"password: \")\n",
    "\n",
    " with open (\"password.txt\", \"a\") as f:\n",
    "  f.write(name + \"|\" + psw +'\\n')\n",
    "\n",
    "def view():\n",
    " with open(\"password.txt\",\"r\") as f:\n",
    "  for line in f.readline():\n",
    "    data= print(line.rstrip)\n",
    "    user, passw = data.split('|')\n",
    "    print(\"User:\" , user,\"|\",\"Password:\" ,passw)\n",
    "\n",
    "while 1: \n",
    " mode = input(\"would you like to  add new  password or view a password(add/view) and type q to quit: \").lower()\n",
    "\n",
    " if mode=='q':\n",
    "  break\n",
    " \n",
    " if mode == \"add\":\n",
    "  add()\n",
    " \n",
    " elif mode ==\"view\":\n",
    "  view()\n",
    " \n",
    " else:\n",
    "  print(\"Invalid mode\")\n",
    "  continue"
   ]
  },
  {
   "cell_type": "code",
   "execution_count": 2,
   "id": "68e64b3a-ec46-49fd-99ac-83ebf0fb7ae6",
   "metadata": {},
   "outputs": [
    {
     "name": "stdout",
     "output_type": "stream",
     "text": [
      "Requirement already satisfied: cryptography in c:\\users\\user\\anaconda3\\lib\\site-packages (42.0.2)\n",
      "Requirement already satisfied: cffi>=1.12 in c:\\users\\user\\anaconda3\\lib\\site-packages (from cryptography) (1.16.0)\n",
      "Requirement already satisfied: pycparser in c:\\users\\user\\anaconda3\\lib\\site-packages (from cffi>=1.12->cryptography) (2.21)\n",
      "Note: you may need to restart the kernel to use updated packages.\n"
     ]
    }
   ],
   "source": [
    "pip install cryptography\n"
   ]
  },
  {
   "cell_type": "code",
   "execution_count": null,
   "id": "680e4bd9-8c78-43b1-b361-c83ea2a532a4",
   "metadata": {},
   "outputs": [],
   "source": []
  }
 ],
 "metadata": {
  "kernelspec": {
   "display_name": "Python 3 (ipykernel)",
   "language": "python",
   "name": "python3"
  },
  "language_info": {
   "codemirror_mode": {
    "name": "ipython",
    "version": 3
   },
   "file_extension": ".py",
   "mimetype": "text/x-python",
   "name": "python",
   "nbconvert_exporter": "python",
   "pygments_lexer": "ipython3",
   "version": "3.11.7"
  }
 },
 "nbformat": 4,
 "nbformat_minor": 5
}
